{
 "cells": [
  {
   "cell_type": "markdown",
   "id": "5c8585fe-d6be-41a7-82df-3c288951a0ae",
   "metadata": {},
   "source": [
    "<h1>Naive bayes cassification</h1>\n",
    "<h3>Here I import the libraries I need</h3>"
   ]
  },
  {
   "cell_type": "code",
   "execution_count": 1,
   "id": "eba686b7-d4bc-40d2-8033-6bc3fd95bc63",
   "metadata": {},
   "outputs": [],
   "source": [
    "import pandas as pd\n",
    "import numpy as np\n",
    "from sklearn.model_selection import train_test_split"
   ]
  },
  {
   "cell_type": "markdown",
   "id": "8f022712-eea0-43b1-8799-08664cb802b2",
   "metadata": {},
   "source": [
    "<h3>Here I read data and drop the unnessecary column (id)</h3>"
   ]
  },
  {
   "cell_type": "code",
   "execution_count": 2,
   "id": "841f7b87-6fc3-4c08-a91c-5db40a940e80",
   "metadata": {},
   "outputs": [],
   "source": [
    "data = pd.read_csv('./data.csv')\n",
    "data = data.drop(columns=['id'])"
   ]
  },
  {
   "cell_type": "markdown",
   "id": "5a109b83-8115-4333-bcd4-e37b8c5e0d14",
   "metadata": {},
   "source": [
    "<h3>Here I split test/train data and calculate population of each class and their probablities in train data</h3>"
   ]
  },
  {
   "cell_type": "code",
   "execution_count": 3,
   "id": "20b4f806-93e8-4709-8039-8b5f5b28954e",
   "metadata": {},
   "outputs": [
    {
     "name": "stdout",
     "output_type": "stream",
     "text": [
      "0.37142857142857144 0.6285714285714286\n"
     ]
    }
   ],
   "source": [
    "classM, classB = 0,0\n",
    "X = data.drop(columns=[\"diagnosis\"])\n",
    "y = data[\"diagnosis\"]\n",
    "X.drop(columns=['Unnamed: 32'], axis=1, inplace=True)\n",
    "X_train, X_test, y_train, y_test = train_test_split(X, y, test_size=0.2, random_state=42)\n",
    "row_count = len(y_train)\n",
    "for row in y_train:\n",
    "    if row == \"M\":\n",
    "        classM += 1\n",
    "    else :\n",
    "        classB += 1\n",
    "prob_classM = classM / row_count\n",
    "prob_classB = classB / row_count\n",
    "print(prob_classM, prob_classB)"
   ]
  },
  {
   "cell_type": "markdown",
   "id": "ff4087ec-7d64-412c-a0d2-91eec2f73dd5",
   "metadata": {},
   "source": [
    "<h3>Here I split the numeric ones as just the label is not numeric I won't lose any data. And also I calculate Q1,Q2,Q3 on data so I can use them as boundaries and split the data into 4 parts that I can easily implement Naive Bayes on</h3>"
   ]
  },
  {
   "cell_type": "code",
   "execution_count": 4,
   "id": "200f535f-57e4-46ba-b20b-46990a3c7197",
   "metadata": {},
   "outputs": [],
   "source": [
    "X_train = X_train.fillna(X_train.median())\n",
    "Q1 = X_train.quantile(0.25)\n",
    "Q2 = X_train.median()\n",
    "Q3 = X_train.quantile(0.75)"
   ]
  },
  {
   "cell_type": "markdown",
   "id": "a91a8187-2def-4ec9-a749-2aa63fafcc8c",
   "metadata": {},
   "source": [
    "<h3>This function calculates the probablity of an attribute value on given class based on attribute value of data</h3>"
   ]
  },
  {
   "cell_type": "code",
   "execution_count": 5,
   "id": "582900ce-23a0-4e75-a99e-8dbf68dc59bc",
   "metadata": {},
   "outputs": [],
   "source": [
    "def calc(key, value, class_label):\n",
    "    count = 0\n",
    "    for i in range(len(X_train)):\n",
    "        if y_train.iloc[i] == class_label:\n",
    "            if value == 1:\n",
    "                if X_train[key].iloc[i] <= Q1[key]:\n",
    "                    count += 1\n",
    "            elif value == 2:\n",
    "                if Q1[key] < X_train[key].iloc[i] <= Q2[key]:\n",
    "                    count += 1\n",
    "            elif value == 3:\n",
    "                if Q2[key] < X_train[key].iloc[i] <= Q3[key]:\n",
    "                    count += 1\n",
    "            else:\n",
    "                if X_train[key].iloc[i] > Q3[key]:\n",
    "                    count += 1\n",
    "    if count == 0:\n",
    "        if class_label == 'M':\n",
    "            return 1/classM+4\n",
    "        return 1/classB+4\n",
    "    if class_label == 'M':\n",
    "        return count/classM\n",
    "    return count/classB"
   ]
  },
  {
   "cell_type": "markdown",
   "id": "b28ef98b-278a-4364-b58a-4c7217b47267",
   "metadata": {},
   "source": [
    "<h3>This function gets all calculation of attributes of given data and calculates the probablity based on Naive Bayes formula for each class</h3>"
   ]
  },
  {
   "cell_type": "code",
   "execution_count": 6,
   "id": "52d2a3a4-2a94-4bf1-8e67-1dcbfeaba77e",
   "metadata": {},
   "outputs": [],
   "source": [
    "def predict(data):\n",
    "    cM = classM\n",
    "    cB = classB\n",
    "    for key, value in Q1.items():\n",
    "        if data[key] > Q3[key]:\n",
    "            val = 4\n",
    "        elif Q2[key] < data[key] <= Q3[key]:\n",
    "            val = 3\n",
    "        elif Q1[key] < data[key] <= Q2[key]:\n",
    "            val = 2\n",
    "        else:\n",
    "            val = 1\n",
    "        cB *= calc(key, val, 'B')\n",
    "        cM *= calc(key, val, 'M')\n",
    "    print(f'result for  data is {cM} for classM and {cB} for classB')\n",
    "    if cM < cB:\n",
    "        return 'B'\n",
    "    return 'M'"
   ]
  },
  {
   "cell_type": "markdown",
   "id": "9092a3b9-48c4-4fe4-bdd2-70a49bde4a59",
   "metadata": {},
   "source": [
    "<h3>Here we get actual labels and predicted ones</h3>"
   ]
  },
  {
   "cell_type": "code",
   "execution_count": 7,
   "id": "61e605a3-1263-4ab7-9999-5cfddb20abb0",
   "metadata": {
    "scrolled": true
   },
   "outputs": [
    {
     "name": "stdout",
     "output_type": "stream",
     "text": [
      "result for  data is 1.5056076061492387e-20 for classM and 5.846995232737851e-16 for classB\n",
      "result for  data is 8.078053119781554e-13 for classM and 3.5836150916588405e-30 for classB\n",
      "result for  data is 1.0677764177889662e-12 for classM and 1.5509394801876156e-26 for classB\n",
      "result for  data is 1.914570561372913e-24 for classM and 6.176798923744045e-16 for classB\n",
      "result for  data is 5.549028486969036e-26 for classM and 1.0622155573501196e-14 for classB\n",
      "result for  data is 2.8581981477056395e-08 for classM and 2.841071973440571e-35 for classB\n",
      "result for  data is 7.684494219425603e-10 for classM and 6.600613341106734e-34 for classB\n",
      "result for  data is 8.230276880596325e-14 for classM and 1.7096206300920104e-28 for classB\n",
      "result for  data is 2.4390812209469557e-18 for classM and 1.0255889616910188e-20 for classB\n",
      "result for  data is 4.915771609246367e-28 for classM and 4.4558758148062803e-14 for classB\n",
      "result for  data is 1.229524828196868e-31 for classM and 1.631211920988562e-13 for classB\n",
      "result for  data is 6.03089142566166e-12 for classM and 4.465138791186745e-28 for classB\n",
      "result for  data is 1.6623234051898952e-29 for classM and 4.772145876366949e-14 for classB\n",
      "result for  data is 1.042331891671704e-12 for classM and 1.6162358960225115e-24 for classB\n",
      "result for  data is 1.9512598514986296e-30 for classM and 7.09233048268e-13 for classB\n",
      "result for  data is 1.3136852047342044e-10 for classM and 9.498410251388896e-33 for classB\n",
      "result for  data is 2.6698352358745577e-27 for classM and 1.0164447036498647e-13 for classB\n",
      "result for  data is 2.150837776831786e-33 for classM and 5.926481649705411e-13 for classB\n",
      "result for  data is 6.315735288361952e-34 for classM and 1.478421273490302e-13 for classB\n",
      "result for  data is 2.842475974103664e-10 for classM and 3.936207480650767e-33 for classB\n",
      "result for  data is 3.831356660002627e-18 for classM and 7.679606231629189e-17 for classB\n",
      "result for  data is 3.315780012507406e-27 for classM and 8.572810714036226e-14 for classB\n",
      "result for  data is 1.5525744403878664e-08 for classM and 6.222566916137355e-35 for classB\n",
      "result for  data is 1.0025733345355729e-34 for classM and 9.32559875865107e-13 for classB\n",
      "result for  data is 3.543986175354381e-31 for classM and 4.614833362656785e-14 for classB\n",
      "result for  data is 4.929527203625087e-24 for classM and 2.1649036124931526e-15 for classB\n",
      "result for  data is 1.9501608469933655e-28 for classM and 9.466786604223948e-14 for classB\n",
      "result for  data is 1.6505255987641574e-27 for classM and 1.5106588829613914e-14 for classB\n",
      "result for  data is 1.6162503003545205e-29 for classM and 1.889339676660208e-13 for classB\n",
      "result for  data is 2.254264622569322e-08 for classM and 3.812668671686971e-35 for classB\n",
      "result for  data is 1.8542679448020307e-26 for classM and 1.4649201673412347e-14 for classB\n",
      "result for  data is 1.7756031566827508e-32 for classM and 2.2782257807414344e-12 for classB\n",
      "result for  data is 2.361716839749404e-28 for classM and 8.176947014619449e-16 for classB\n",
      "result for  data is 1.116814684178622e-27 for classM and 7.346531872148599e-14 for classB\n",
      "result for  data is 2.6705141110326805e-32 for classM and 1.5201991930751372e-13 for classB\n",
      "result for  data is 6.767824197876838e-30 for classM and 1.0360367851406163e-13 for classB\n",
      "result for  data is 1.442982263920172e-19 for classM and 3.3701860358749046e-21 for classB\n",
      "result for  data is 4.806100599284313e-29 for classM and 6.9148261926437296e-15 for classB\n",
      "result for  data is 1.1743850606147077e-12 for classM and 2.1716609564124294e-29 for classB\n",
      "result for  data is 1.631759164824289e-22 for classM and 4.647912585860815e-15 for classB\n",
      "result for  data is 4.054964772217972e-28 for classM and 2.3063498978055972e-14 for classB\n",
      "result for  data is 1.3610627862064134e-12 for classM and 2.074527999390177e-24 for classB\n",
      "result for  data is 7.158444517315981e-24 for classM and 4.278702006636455e-15 for classB\n",
      "result for  data is 2.590276348825477e-30 for classM and 3.339018257810079e-13 for classB\n",
      "result for  data is 1.3853010829237565e-24 for classM and 9.96440237169106e-18 for classB\n",
      "result for  data is 2.736660406531275e-28 for classM and 4.133320370058041e-14 for classB\n",
      "result for  data is 6.234843651927417e-26 for classM and 2.3641131746861725e-15 for classB\n",
      "result for  data is 1.6531376634846889e-31 for classM and 1.005619683986104e-14 for classB\n",
      "result for  data is 1.2885154157525174e-26 for classM and 3.775228629796492e-15 for classB\n",
      "result for  data is 1.5871674480469745e-23 for classM and 3.583251009369727e-15 for classB\n",
      "result for  data is 3.9713893303193354e-13 for classM and 5.054114637163954e-29 for classB\n",
      "result for  data is 1.4894248399118737e-08 for classM and 4.91413968407763e-35 for classB\n",
      "result for  data is 8.5443455292982e-20 for classM and 7.319771013179054e-18 for classB\n",
      "result for  data is 1.8718654095632522e-20 for classM and 2.9634981744780755e-18 for classB\n",
      "result for  data is 2.7022429949425457e-26 for classM and 3.935769004359264e-15 for classB\n",
      "result for  data is 8.002223045125473e-28 for classM and 2.177784364593946e-13 for classB\n",
      "result for  data is 2.2183491628761316e-24 for classM and 2.442330203128797e-15 for classB\n",
      "result for  data is 5.749071648129551e-09 for classM and 9.544615698769063e-35 for classB\n",
      "result for  data is 6.571993908402286e-16 for classM and 2.3897729171481795e-20 for classB\n",
      "result for  data is 3.81407782564433e-31 for classM and 8.968489828097126e-13 for classB\n",
      "result for  data is 6.455513967731329e-26 for classM and 8.214507147506237e-14 for classB\n",
      "result for  data is 2.6964327469162533e-09 for classM and 2.849659228103496e-34 for classB\n",
      "result for  data is 2.0424843223550527e-10 for classM and 7.043334911094396e-33 for classB\n",
      "result for  data is 5.652913954778074e-25 for classM and 4.7747413109949095e-15 for classB\n",
      "result for  data is 2.672160766910241e-34 for classM and 1.1408396574605324e-12 for classB\n",
      "result for  data is 3.4823768877954016e-23 for classM and 1.23889774582785e-16 for classB\n",
      "result for  data is 3.499346949928496e-08 for classM and 2.896109106312212e-35 for classB\n",
      "result for  data is 2.3929100771489084e-08 for classM and 3.16576591326235e-35 for classB\n",
      "result for  data is 1.0601258234374307e-31 for classM and 2.8799185695493997e-13 for classB\n",
      "result for  data is 1.33372653225097e-21 for classM and 8.834392392330836e-16 for classB\n",
      "result for  data is 5.3320613641517114e-12 for classM and 1.0201958166696054e-23 for classB\n",
      "result for  data is 9.279654839506236e-11 for classM and 1.8505682580684174e-30 for classB\n",
      "result for  data is 1.6471869423964846e-30 for classM and 3.005479054082425e-13 for classB\n",
      "result for  data is 1.0310624102170328e-11 for classM and 1.0795050807211844e-26 for classB\n",
      "result for  data is 3.0823992728563376e-31 for classM and 4.1949984482802725e-14 for classB\n",
      "result for  data is 1.6125925151069067e-25 for classM and 5.2416547824536605e-15 for classB\n",
      "result for  data is 2.1326163882438428e-24 for classM and 6.253126081372851e-15 for classB\n",
      "result for  data is 1.3773213674702298e-15 for classM and 1.4026437535205852e-17 for classB\n",
      "result for  data is 7.970893710095191e-35 for classM and 1.988944220609579e-12 for classB\n",
      "result for  data is 5.618549751012413e-26 for classM and 6.492471901304283e-16 for classB\n",
      "result for  data is 2.601084644355794e-13 for classM and 6.873617396097384e-26 for classB\n",
      "result for  data is 1.0615423881384983e-35 for classM and 2.752989250758805e-12 for classB\n",
      "result for  data is 3.1942978439549126e-15 for classM and 4.145100883537464e-18 for classB\n",
      "result for  data is 3.0587078112453644e-10 for classM and 3.140710503795414e-33 for classB\n",
      "result for  data is 2.731884038119746e-16 for classM and 1.8739586716881274e-25 for classB\n",
      "result for  data is 2.6375656705400582e-11 for classM and 2.580678442566087e-26 for classB\n",
      "result for  data is 3.951255092190497e-15 for classM and 1.1905057882094078e-23 for classB\n",
      "result for  data is 3.4623628647162925e-10 for classM and 1.0903682384385528e-33 for classB\n",
      "result for  data is 2.016923487309613e-24 for classM and 9.772813854074685e-16 for classB\n",
      "result for  data is 1.900043742696394e-26 for classM and 2.283445355394944e-14 for classB\n",
      "result for  data is 1.2598645574666857e-28 for classM and 4.542870961011528e-14 for classB\n",
      "result for  data is 1.2273389361349794e-21 for classM and 4.2831380347607634e-16 for classB\n",
      "result for  data is 3.020875809257109e-18 for classM and 1.1741106724509017e-16 for classB\n",
      "result for  data is 2.8118242801082953e-33 for classM and 3.9965872750330027e-13 for classB\n",
      "result for  data is 2.3219525756361704e-31 for classM and 9.198490611361457e-14 for classB\n",
      "result for  data is 1.377887601621896e-27 for classM and 2.079880351661631e-14 for classB\n",
      "result for  data is 2.268153590340337e-11 for classM and 5.035680814962112e-32 for classB\n",
      "result for  data is 1.2268384071695193e-09 for classM and 6.122479610099268e-32 for classB\n",
      "result for  data is 4.1496203696143446e-35 for classM and 1.4056506769923499e-12 for classB\n",
      "result for  data is 2.187715920498943e-11 for classM and 4.263167697947837e-31 for classB\n",
      "result for  data is 1.5552394023293468e-14 for classM and 3.9170502629562695e-23 for classB\n",
      "result for  data is 2.0587304058749162e-35 for classM and 1.3294596180664397e-12 for classB\n",
      "result for  data is 1.412500201429245e-10 for classM and 1.0059636765019217e-33 for classB\n",
      "result for  data is 5.13063961887195e-11 for classM and 5.308015945820868e-31 for classB\n",
      "result for  data is 2.6244505870551966e-29 for classM and 2.674948764138099e-15 for classB\n",
      "result for  data is 2.8124498506230233e-23 for classM and 6.947721795585483e-15 for classB\n",
      "result for  data is 3.219966498965834e-24 for classM and 4.666858900280163e-15 for classB\n",
      "result for  data is 2.238939120985325e-11 for classM and 4.245055160946231e-32 for classB\n",
      "result for  data is 5.416969858445826e-18 for classM and 1.1602031816161735e-16 for classB\n",
      "result for  data is 5.061195386042881e-23 for classM and 9.120891538623085e-15 for classB\n",
      "result for  data is 7.807054386878897e-13 for classM and 8.0319557730948475e-28 for classB\n",
      "result for  data is 9.003056950007771e-28 for classM and 1.9975314229430508e-13 for classB\n",
      "result for  data is 1.1349469882762201e-17 for classM and 5.218969109949997e-17 for classB\n",
      "result for  data is 2.402210506895569e-11 for classM and 9.800803136523278e-32 for classB\n"
     ]
    }
   ],
   "source": [
    "predict = np.array([predict(row) for _, row in X_test.iterrows()])"
   ]
  },
  {
   "cell_type": "markdown",
   "id": "eb3ef578-2ae5-43ec-a86e-ac7979748210",
   "metadata": {},
   "source": [
    "<h3>Here we calculate confusion matrix. TP is for class 'M' and TN is for class 'B'</h3>"
   ]
  },
  {
   "cell_type": "code",
   "execution_count": 8,
   "id": "790fce8c-26a4-4015-90d7-fccfdbad9e69",
   "metadata": {},
   "outputs": [],
   "source": [
    "TP, TN, FN, FP = 0,0,0,0\n",
    "for i in range(len(y_test)):\n",
    "    if y_test.iloc[i] == predict[i]:\n",
    "        if predict[i] == 'M':\n",
    "            TP += 1\n",
    "        else :\n",
    "            TN += 1\n",
    "    elif y_test.iloc[i] == 'M' and predict[i] == 'B' :\n",
    "        FN += 1\n",
    "    else :\n",
    "        FP += 1"
   ]
  },
  {
   "cell_type": "code",
   "execution_count": 9,
   "id": "eab99c2b-381b-4faf-a43e-637e1c1a98cf",
   "metadata": {},
   "outputs": [
    {
     "data": {
      "text/plain": [
       "[[42, 1], [1, 70]]"
      ]
     },
     "execution_count": 9,
     "metadata": {},
     "output_type": "execute_result"
    }
   ],
   "source": [
    "confusion_matrix = [[TP, FN], [FP, TN]]\n",
    "confusion_matrix"
   ]
  },
  {
   "cell_type": "code",
   "execution_count": 10,
   "id": "4d14f016-8727-4cb9-8fee-d033aa9f1509",
   "metadata": {},
   "outputs": [
    {
     "name": "stdout",
     "output_type": "stream",
     "text": [
      "\"Accuracy =0.9825\tPrecision =0.9767\trecall =0.9767\n"
     ]
    }
   ],
   "source": [
    "accuracy = (confusion_matrix[0][0] + confusion_matrix[1][1])/len(y_test)\n",
    "precision = confusion_matrix[0][0]/(confusion_matrix[0][0] + confusion_matrix[1][0])\n",
    "recall = confusion_matrix[0][0]/(confusion_matrix[0][0] + confusion_matrix[0][1])\n",
    "print(f'\"Accuracy ={accuracy:.4}\\tPrecision ={precision:.4f}\\trecall ={recall:.4f}')"
   ]
  },
  {
   "cell_type": "code",
   "execution_count": null,
   "id": "46bbfaf5-a5f2-4ca5-a56b-94a92fb8e6bc",
   "metadata": {},
   "outputs": [],
   "source": []
  }
 ],
 "metadata": {
  "kernelspec": {
   "display_name": "Python 3 (ipykernel)",
   "language": "python",
   "name": "python3"
  },
  "language_info": {
   "codemirror_mode": {
    "name": "ipython",
    "version": 3
   },
   "file_extension": ".py",
   "mimetype": "text/x-python",
   "name": "python",
   "nbconvert_exporter": "python",
   "pygments_lexer": "ipython3",
   "version": "3.12.7"
  }
 },
 "nbformat": 4,
 "nbformat_minor": 5
}
